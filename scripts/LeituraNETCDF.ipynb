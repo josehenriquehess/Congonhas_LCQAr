{
 "cells": [
  {
   "cell_type": "markdown",
   "id": "990773fc-7ee9-424c-aa52-77fd486b673e",
   "metadata": {},
   "source": [
    "### Leitura de variadas categorias de emissões de variados poluentes em Congonhas no dia 01/05/2023\n",
    "\n",
    "Esse código é um teste para melhor entendimento do NetCDF e dos dados gerais do município\n",
    "\n",
    "Desenvolvido por: José Henrique Hess\n",
    "Criado em 21/08/2023 5:39"
   ]
  },
  {
   "cell_type": "code",
   "execution_count": 6,
   "id": "e6924df9-771b-4bfe-8e2c-2b6e55384c95",
   "metadata": {},
   "outputs": [
    {
     "name": "stdout",
     "output_type": "stream",
     "text": [
      "agts_l.DomShip.2023-05-01.1.Con_3km.htapv3.ncf\n"
     ]
    }
   ],
   "source": [
    "from netCDF4 import Dataset\n",
    "import os\n",
    "\n",
    "# Define o caminho da pasta onde tem as emissoes em netCDF\n",
    "caminho = 'C:\\BolsaCongonhas\\Emissoes'\n",
    "\n",
    "# Cria uma lista dos nomes de cada arquivo que há na pasta de caminho\n",
    "arquivos = os.listdir(caminho)\n"
   ]
  },
  {
   "cell_type": "code",
   "execution_count": 13,
   "id": "a2fb637b-35b4-4973-a932-3047c48db928",
   "metadata": {},
   "outputs": [],
   "source": [
    "# Define o caminho completo até o primeiro arquivo\n",
    "caminho_completo = caminho + '\\\\' + arquivos[0]\n",
    "\n",
    "# Define qual o dataset e o seu modo r\n",
    "dataset = Dataset(caminho_completo, mode='r')\n",
    "\n",
    "# Exibe informações gerais sobre o dataset\n",
    "#print(dataset)\n",
    "\n",
    "# Listar todas as variáveis disponíveis no arquivo\n",
    "#print(dataset.variables.keys())\n",
    "\n",
    "# Ler uma variável específica (por exemplo, temperatura)\n",
    "temperatura = dataset.variables['CH4'][:]\n",
    "#print(temperatura)\n",
    "\n",
    "# Fechar o arquivo\n",
    "dataset.close()"
   ]
  },
  {
   "cell_type": "code",
   "execution_count": null,
   "id": "1f8cf5f5-3af9-4c56-9fcb-b385842f7815",
   "metadata": {},
   "outputs": [],
   "source": []
  }
 ],
 "metadata": {
  "kernelspec": {
   "display_name": "Python 3 (ipykernel)",
   "language": "python",
   "name": "python3"
  },
  "language_info": {
   "codemirror_mode": {
    "name": "ipython",
    "version": 3
   },
   "file_extension": ".py",
   "mimetype": "text/x-python",
   "name": "python",
   "nbconvert_exporter": "python",
   "pygments_lexer": "ipython3",
   "version": "3.11.8"
  }
 },
 "nbformat": 4,
 "nbformat_minor": 5
}
